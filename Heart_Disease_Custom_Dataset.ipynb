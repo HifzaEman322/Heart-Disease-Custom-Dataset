{
  "nbformat": 4,
  "nbformat_minor": 0,
  "metadata": {
    "colab": {
      "provenance": []
    },
    "kernelspec": {
      "name": "python3",
      "display_name": "Python 3"
    },
    "language_info": {
      "name": "python"
    }
  },
  "cells": [
    {
      "cell_type": "code",
      "execution_count": 1,
      "metadata": {
        "colab": {
          "base_uri": "https://localhost:8080/"
        },
        "id": "9Vn2C6pOdZ7E",
        "outputId": "2e3e024e-10b6-4944-c7e7-4632ee280468"
      },
      "outputs": [
        {
          "output_type": "stream",
          "name": "stdout",
          "text": [
            "Age               0\n",
            "Sex               0\n",
            "ChestPainType     0\n",
            "RestingBP         0\n",
            "Cholesterol       0\n",
            "FastingBS         0\n",
            "RestingECG        0\n",
            "MaxHR             0\n",
            "ExerciseAngina    0\n",
            "Oldpeak           0\n",
            "ST_Slope          0\n",
            "HeartDisease      0\n",
            "dtype: int64\n"
          ]
        }
      ],
      "source": [
        "import pandas as pd\n",
        "from sklearn.model_selection import train_test_split\n",
        "from sklearn.preprocessing import StandardScaler\n",
        "\n",
        "# Load dataset\n",
        "df = pd.read_csv('heart.csv')\n",
        "\n",
        "# Check for missing values\n",
        "print(df.isnull().sum())\n",
        "\n",
        "\n",
        "# One-hot encode categorical columns\n",
        "df_encoded = pd.get_dummies(df, drop_first=True)\n",
        "\n",
        "# Split features and target\n",
        "X = df_encoded.drop('HeartDisease', axis=1)\n",
        "y = df_encoded['HeartDisease']\n",
        "\n",
        "# Train-test split\n",
        "X_train, X_test, y_train, y_test = train_test_split(X, y, test_size=0.2, random_state=42)\n",
        "\n",
        "# Feature Scaling\n",
        "scaler = StandardScaler()\n",
        "X_train_scaled = scaler.fit_transform(X_train)\n",
        "X_test_scaled = scaler.transform(X_test)\n"
      ]
    },
    {
      "cell_type": "code",
      "source": [
        "from sklearn.preprocessing import PolynomialFeatures\n",
        "\n",
        "poly = PolynomialFeatures(degree=2, include_bias=False)\n",
        "X_poly = poly.fit_transform(X_train_scaled)\n",
        "X_test_poly = poly.transform(X_test_scaled)\n"
      ],
      "metadata": {
        "id": "sx60xVhXjQWw"
      },
      "execution_count": 2,
      "outputs": []
    },
    {
      "cell_type": "code",
      "source": [
        "import numpy as np\n",
        "from sklearn.metrics import mean_squared_error, r2_score\n",
        "\n",
        "# Add bias term\n",
        "X_b = np.c_[np.ones((X_train_scaled.shape[0], 1)), X_train_scaled]\n",
        "theta_best = np.linalg.inv(X_b.T.dot(X_b)).dot(X_b.T).dot(y_train)\n",
        "\n",
        "# Predict\n",
        "X_test_b = np.c_[np.ones((X_test_scaled.shape[0], 1)), X_test_scaled]\n",
        "y_pred = X_test_b.dot(theta_best)\n",
        "\n",
        "# Evaluation\n",
        "print(\"R²:\", r2_score(y_test, y_pred))\n",
        "print(\"RMSE:\", np.sqrt(mean_squared_error(y_test, y_pred)))\n"
      ],
      "metadata": {
        "colab": {
          "base_uri": "https://localhost:8080/"
        },
        "id": "qBoB3o6ZkBo_",
        "outputId": "70a57004-5683-4911-8bed-c886b2129c73"
      },
      "execution_count": 3,
      "outputs": [
        {
          "output_type": "stream",
          "name": "stdout",
          "text": [
            "R²: 0.5300387934563556\n",
            "RMSE: 0.3381819573725495\n"
          ]
        }
      ]
    },
    {
      "cell_type": "code",
      "source": [
        "from sklearn.linear_model import SGDRegressor\n",
        "\n",
        "sgd_reg = SGDRegressor(max_iter=1000, tol=1e-3, random_state=42)\n",
        "sgd_reg.fit(X_train_scaled, y_train)\n",
        "y_pred_sgd = sgd_reg.predict(X_test_scaled)\n",
        "\n",
        "print(\"SGD R²:\", r2_score(y_test, y_pred_sgd))\n",
        "print(\"SGD RMSE:\", np.sqrt(mean_squared_error(y_test, y_pred_sgd)))\n"
      ],
      "metadata": {
        "colab": {
          "base_uri": "https://localhost:8080/"
        },
        "id": "Xio5y22AkHox",
        "outputId": "c77d0c30-5496-46e5-de43-2502ace35713"
      },
      "execution_count": 4,
      "outputs": [
        {
          "output_type": "stream",
          "name": "stdout",
          "text": [
            "SGD R²: 0.5290127364884929\n",
            "SGD RMSE: 0.33855092906548684\n"
          ]
        }
      ]
    },
    {
      "cell_type": "code",
      "source": [
        "from sklearn.linear_model import Ridge, Lasso\n",
        "\n",
        "ridge = Ridge(alpha=1.0)\n",
        "ridge.fit(X_train_scaled, y_train)\n",
        "lasso = Lasso(alpha=0.01)\n",
        "lasso.fit(X_train_scaled, y_train)\n",
        "\n",
        "print(\"Ridge R²:\", r2_score(y_test, ridge.predict(X_test_scaled)))\n",
        "print(\"Lasso R²:\", r2_score(y_test, lasso.predict(X_test_scaled)))\n"
      ],
      "metadata": {
        "colab": {
          "base_uri": "https://localhost:8080/"
        },
        "id": "vX5-fGB0kKKN",
        "outputId": "d46843a8-952c-462b-c507-f69116705fbb"
      },
      "execution_count": 5,
      "outputs": [
        {
          "output_type": "stream",
          "name": "stdout",
          "text": [
            "Ridge R²: 0.5299834302249025\n",
            "Lasso R²: 0.5197792315234371\n"
          ]
        }
      ]
    },
    {
      "cell_type": "code",
      "source": [
        "from sklearn.linear_model import LogisticRegression\n",
        "from sklearn.metrics import accuracy_score, f1_score, classification_report\n",
        "\n",
        "log_reg = LogisticRegression(max_iter=1000)\n",
        "log_reg.fit(X_train_scaled, y_train)\n",
        "y_pred_log = log_reg.predict(X_test_scaled)\n",
        "\n",
        "print(\"LogReg Accuracy:\", accuracy_score(y_test, y_pred_log))\n",
        "print(\"F1 Score:\", f1_score(y_test, y_pred_log))\n",
        "print(classification_report(y_test, y_pred_log))\n"
      ],
      "metadata": {
        "colab": {
          "base_uri": "https://localhost:8080/"
        },
        "id": "PbZAHKJAkMyY",
        "outputId": "119f9f03-db63-47a4-cd4f-128323e21f7f"
      },
      "execution_count": 6,
      "outputs": [
        {
          "output_type": "stream",
          "name": "stdout",
          "text": [
            "LogReg Accuracy: 0.8532608695652174\n",
            "F1 Score: 0.8695652173913043\n",
            "              precision    recall  f1-score   support\n",
            "\n",
            "           0       0.80      0.87      0.83        77\n",
            "           1       0.90      0.84      0.87       107\n",
            "\n",
            "    accuracy                           0.85       184\n",
            "   macro avg       0.85      0.86      0.85       184\n",
            "weighted avg       0.86      0.85      0.85       184\n",
            "\n"
          ]
        }
      ]
    },
    {
      "cell_type": "code",
      "source": [
        "import matplotlib.pyplot as plt\n",
        "from sklearn.model_selection import learning_curve\n",
        "\n",
        "def plot_learning_curve(estimator, title):\n",
        "    train_sizes, train_scores, test_scores = learning_curve(estimator, X_train_scaled, y_train,\n",
        "                                                            cv=5, scoring='accuracy',\n",
        "                                                            train_sizes=np.linspace(0.1, 1.0, 10))\n",
        "\n",
        "    train_scores_mean = train_scores.mean(axis=1)\n",
        "    test_scores_mean = test_scores.mean(axis=1)\n",
        "\n",
        "    plt.plot(train_sizes, train_scores_mean, label='Training score')\n",
        "    plt.plot(train_sizes, test_scores_mean, label='Cross-validation score')\n",
        "    plt.title(title)\n",
        "    plt.xlabel('Training Size')\n",
        "    plt.ylabel('Score')\n",
        "    plt.legend()\n",
        "    plt.grid()\n",
        "    plt.show()\n",
        "\n",
        "plot_learning_curve(LogisticRegression(), \"Logistic Regression Learning Curve\")\n"
      ],
      "metadata": {
        "colab": {
          "base_uri": "https://localhost:8080/",
          "height": 472
        },
        "id": "g_jMw-hAkPop",
        "outputId": "e58e83aa-a63f-4033-994e-82a496e91f84"
      },
      "execution_count": 7,
      "outputs": [
        {
          "output_type": "display_data",
          "data": {
            "text/plain": [
              "<Figure size 640x480 with 1 Axes>"
            ],
            "image/png": "[encoded data removed]"
          },
          "metadata": {}
        }
      ]
    },
    {
      "cell_type": "code",
      "source": [
        "from sklearn.model_selection import GridSearchCV\n",
        "\n",
        "param_grid = {'alpha': [0.01, 0.1, 1.0, 10.0]}\n",
        "ridge_grid = GridSearchCV(Ridge(), param_grid, cv=5, scoring='r2')\n",
        "ridge_grid.fit(X_train_scaled, y_train)\n",
        "\n",
        "print(\"Best Ridge alpha:\", ridge_grid.best_params_)\n",
        "print(\"Best Ridge R²:\", ridge_grid.best_score_)\n"
      ],
      "metadata": {
        "colab": {
          "base_uri": "https://localhost:8080/"
        },
        "id": "5AaGckBMkSPh",
        "outputId": "5c848314-c1f2-44bf-be03-2fbddf59bd08"
      },
      "execution_count": 8,
      "outputs": [
        {
          "output_type": "stream",
          "name": "stdout",
          "text": [
            "Best Ridge alpha: {'alpha': 10.0}\n",
            "Best Ridge R²: 0.5550735512431084\n"
          ]
        }
      ]
    },
    {
      "cell_type": "code",
      "source": [],
      "metadata": {
        "id": "J-0YkhP6kWXv"
      },
      "execution_count": 8,
      "outputs": []
    }
  ]
}